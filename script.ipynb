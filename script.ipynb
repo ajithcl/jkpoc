{
 "cells": [
  {
   "cell_type": "code",
   "execution_count": 18,
   "id": "973c7f9c-f688-4607-8f19-53e8fe45f929",
   "metadata": {},
   "outputs": [],
   "source": [
    "import os\n",
    "import pandas as pd"
   ]
  },
  {
   "cell_type": "code",
   "execution_count": 13,
   "id": "8ca7ffed-5202-40fe-a62d-b604b1190ddf",
   "metadata": {},
   "outputs": [],
   "source": [
    "# Get the list of csv files a list format.\n",
    "def list_csv_files(folder_path):\n",
    "    csv_files = []\n",
    "    for root, _, files in os.walk(folder_path):\n",
    "        for file in files:\n",
    "            if file.lower().endswith('.csv'):\n",
    "                csv_files.append(os.path.join(root, file))\n",
    "    return csv_files"
   ]
  },
  {
   "cell_type": "code",
   "execution_count": 14,
   "id": "0cf17a8c-73db-4753-88f3-95dddc0eb9f7",
   "metadata": {},
   "outputs": [],
   "source": [
    "folder_path = '/Users/ajith/Programming/JKtect_JIVA/dmp_client_files'"
   ]
  },
  {
   "cell_type": "code",
   "execution_count": 15,
   "id": "87328226-fbed-46fd-b9e4-60c72171edd0",
   "metadata": {},
   "outputs": [],
   "source": [
    "csv_files = list_csv_files(folder_path)"
   ]
  },
  {
   "cell_type": "code",
   "execution_count": 31,
   "id": "86762dd5-6997-413e-bad6-aa6f16861f25",
   "metadata": {},
   "outputs": [],
   "source": [
    "output_list = []\n",
    "for file in csv_files:\n",
    "    df = pd.read_csv(file)\n",
    "    result = df.select_dtypes(include=['number']).mean().to_dict()\n",
    "    result['filename'] = file\n",
    "    output_list.append(result)"
   ]
  },
  {
   "cell_type": "code",
   "execution_count": 32,
   "id": "93c95119-42c2-455c-9496-293b96779fb3",
   "metadata": {},
   "outputs": [
    {
     "data": {
      "text/plain": [
       "[{'DF_Score': 99.93573006627837,\n",
       "  'Total Score': 0.9977418671935643,\n",
       "  'Mandatory Weighted Score': 1.0,\n",
       "  'Optional Weighted Score': 0.2991644908616188,\n",
       "  'filename': '/Users/ajith/Programming/JKtect_JIVA/dmp_client_files/client/Analytics/Scoring/DataFormatting/client_Analytics_Scoring_data formating_zoominfo_synthetic.csv'},\n",
       " {'DF_Score': 99.99470750123491,\n",
       "  'Total Score': 0.9712793733681462,\n",
       "  'Mandatory Weighted Score': 1.0,\n",
       "  'Optional Weighted Score': 0.2868884095811102,\n",
       "  'filename': '/Users/ajith/Programming/JKtect_JIVA/dmp_client_files/client/Analytics/Scoring/DataFormatting/client_Analytics_Scoring_data formating_customer_data.csv'}]"
      ]
     },
     "execution_count": 32,
     "metadata": {},
     "output_type": "execute_result"
    }
   ],
   "source": [
    "output_list"
   ]
  },
  {
   "cell_type": "code",
   "execution_count": null,
   "id": "2c1839ce-7987-45da-8f57-b4b4e74fdb77",
   "metadata": {},
   "outputs": [],
   "source": []
  }
 ],
 "metadata": {
  "kernelspec": {
   "display_name": "Python 3 (ipykernel)",
   "language": "python",
   "name": "python3"
  },
  "language_info": {
   "codemirror_mode": {
    "name": "ipython",
    "version": 3
   },
   "file_extension": ".py",
   "mimetype": "text/x-python",
   "name": "python",
   "nbconvert_exporter": "python",
   "pygments_lexer": "ipython3",
   "version": "3.11.5"
  }
 },
 "nbformat": 4,
 "nbformat_minor": 5
}
