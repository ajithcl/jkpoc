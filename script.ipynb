{
 "cells": [
  {
   "cell_type": "code",
   "execution_count": 1,
   "id": "973c7f9c-f688-4607-8f19-53e8fe45f929",
   "metadata": {},
   "outputs": [],
   "source": [
    "import os\n",
    "import pandas as pd\n",
    "import seaborn as sns\n",
    "import matplotlib.pyplot as plt"
   ]
  },
  {
   "cell_type": "code",
   "execution_count": 2,
   "id": "8ca7ffed-5202-40fe-a62d-b604b1190ddf",
   "metadata": {},
   "outputs": [],
   "source": [
    "# Generic function for getting the list of csv files a list datatype format.\n",
    "def list_csv_files(folder_path):\n",
    "    csv_files = []\n",
    "    for root, _, files in os.walk(folder_path):\n",
    "        for file in files:\n",
    "            if file.lower().endswith('.csv'):\n",
    "                csv_files.append(os.path.join(root, file))\n",
    "    return csv_files"
   ]
  },
  {
   "cell_type": "code",
   "execution_count": 3,
   "id": "0cf17a8c-73db-4753-88f3-95dddc0eb9f7",
   "metadata": {},
   "outputs": [],
   "source": [
    "# Enter the folder location contains the csv files\n",
    "folder_path = '/Users/ajith/Programming/JKtech_JIVA/dmp_client_files'"
   ]
  },
  {
   "cell_type": "code",
   "execution_count": 4,
   "id": "87328226-fbed-46fd-b9e4-60c72171edd0",
   "metadata": {},
   "outputs": [],
   "source": [
    "# Execute the function\n",
    "csv_files = list_csv_files(folder_path)"
   ]
  },
  {
   "cell_type": "code",
   "execution_count": 5,
   "id": "86762dd5-6997-413e-bad6-aa6f16861f25",
   "metadata": {},
   "outputs": [],
   "source": [
    "# Loop through each files, read the file in a dataframe and find the average of all numeric fields.\n",
    "output_list = []\n",
    "for file in csv_files:\n",
    "    df = pd.read_csv(file)\n",
    "    result = df.select_dtypes(include=['number']).mean().to_dict()\n",
    "    result['filename'] = os.path.basename(file)\n",
    "    output_list.append(result)"
   ]
  },
  {
   "cell_type": "code",
   "execution_count": 6,
   "id": "93c95119-42c2-455c-9496-293b96779fb3",
   "metadata": {},
   "outputs": [
    {
     "data": {
      "text/plain": [
       "[{'DF_Score': 75.0,\n",
       "  'Total Score': 0.9712793729425588,\n",
       "  'Mandatory Weighted Score': 1.0,\n",
       "  'Optional Weighted Score': 0.28688840983812014,\n",
       "  'filename': 'dummy1 copy 17.csv'},\n",
       " {'DF_Score': 75.0,\n",
       "  'Total Score': 0.9712793729425588,\n",
       "  'Mandatory Weighted Score': 1.0,\n",
       "  'Optional Weighted Score': 0.28688840983812014,\n",
       "  'filename': 'dummy1 copy 16.csv'},\n",
       " {'DF_Score': 75.0,\n",
       "  'Total Score': 0.9712793729425588,\n",
       "  'Mandatory Weighted Score': 1.0,\n",
       "  'Optional Weighted Score': 0.28688840983812014,\n",
       "  'filename': 'dummy1 copy 14.csv'},\n",
       " {'DF_Score': 75.0,\n",
       "  'Total Score': 0.9712793729425588,\n",
       "  'Mandatory Weighted Score': 1.0,\n",
       "  'Optional Weighted Score': 0.28688840983812014,\n",
       "  'filename': 'dummy1 copy 15.csv'},\n",
       " {'DF_Score': 20.0,\n",
       "  'Total Score': 0.9712793729425588,\n",
       "  'Mandatory Weighted Score': 1.0,\n",
       "  'Optional Weighted Score': 0.28688840983812014,\n",
       "  'filename': 'dummy1 copy 11.csv'},\n",
       " {'DF_Score': 99.93573006627837,\n",
       "  'Total Score': 0.9977418671935643,\n",
       "  'Mandatory Weighted Score': 1.0,\n",
       "  'Optional Weighted Score': 0.2991644908616188,\n",
       "  'filename': 'client_Analytics_Scoring_data formating_zoominfo_synthetic.csv'},\n",
       " {'DF_Score': 20.0,\n",
       "  'Total Score': 0.9712793729425588,\n",
       "  'Mandatory Weighted Score': 1.0,\n",
       "  'Optional Weighted Score': 0.28688840983812014,\n",
       "  'filename': 'dummy1 copy 10.csv'},\n",
       " {'DF_Score': 20.0,\n",
       "  'Total Score': 0.9712793729425588,\n",
       "  'Mandatory Weighted Score': 1.0,\n",
       "  'Optional Weighted Score': 0.28688840983812014,\n",
       "  'filename': 'dummy1 copy 12.csv'},\n",
       " {'DF_Score': 30.0,\n",
       "  'Total Score': 0.7999999999999999,\n",
       "  'Mandatory Weighted Score': 1.0,\n",
       "  'Optional Weighted Score': 0.28688840983812014,\n",
       "  'filename': 'dummy1 copy.csv'},\n",
       " {'DF_Score': 20.0,\n",
       "  'Total Score': 0.9712793729425588,\n",
       "  'Mandatory Weighted Score': 1.0,\n",
       "  'Optional Weighted Score': 0.28688840983812014,\n",
       "  'filename': 'dummy1 copy 13.csv'},\n",
       " {'DF_Score': 65.0,\n",
       "  'Total Score': 0.9712793729425588,\n",
       "  'Mandatory Weighted Score': 1.0,\n",
       "  'Optional Weighted Score': 0.28688840983812014,\n",
       "  'filename': 'dummy1 copy 9.csv'},\n",
       " {'DF_Score': 75.0,\n",
       "  'Total Score': 0.9712793729425588,\n",
       "  'Mandatory Weighted Score': 1.0,\n",
       "  'Optional Weighted Score': 0.28688840983812014,\n",
       "  'filename': 'dummy1 copy 8.csv'},\n",
       " {'DF_Score': 99.99470750123491,\n",
       "  'Total Score': 0.9712793733681462,\n",
       "  'Mandatory Weighted Score': 1.0,\n",
       "  'Optional Weighted Score': 0.2868884095811102,\n",
       "  'filename': 'client_Analytics_Scoring_data formating_customer_data.csv'},\n",
       " {'DF_Score': 58.0,\n",
       "  'Total Score': 0.9712793729425588,\n",
       "  'Mandatory Weighted Score': 1.0,\n",
       "  'Optional Weighted Score': 0.28688840983812014,\n",
       "  'filename': 'dummy1 copy 3.csv'},\n",
       " {'DF_Score': 20.0,\n",
       "  'Total Score': 0.9712793729425588,\n",
       "  'Mandatory Weighted Score': 1.0,\n",
       "  'Optional Weighted Score': 0.28688840983812014,\n",
       "  'filename': 'dummy1 copy 2.csv'},\n",
       " {'DF_Score': 65.0,\n",
       "  'Total Score': 0.9712793729425588,\n",
       "  'Mandatory Weighted Score': 1.0,\n",
       "  'Optional Weighted Score': 0.28688840983812014,\n",
       "  'filename': 'dummy1 copy 6.csv'},\n",
       " {'DF_Score': 65.0,\n",
       "  'Total Score': 0.9712793729425588,\n",
       "  'Mandatory Weighted Score': 1.0,\n",
       "  'Optional Weighted Score': 0.28688840983812014,\n",
       "  'filename': 'dummy1 copy 7.csv'},\n",
       " {'DF_Score': 65.0,\n",
       "  'Total Score': 0.9712793729425588,\n",
       "  'Mandatory Weighted Score': 1.0,\n",
       "  'Optional Weighted Score': 0.28688840983812014,\n",
       "  'filename': 'dummy1 copy 5.csv'},\n",
       " {'DF_Score': 65.0,\n",
       "  'Total Score': 0.9712793729425588,\n",
       "  'Mandatory Weighted Score': 1.0,\n",
       "  'Optional Weighted Score': 0.28688840983812014,\n",
       "  'filename': 'dummy1 copy 4.csv'},\n",
       " {'DF_Score': 75.0,\n",
       "  'Total Score': 0.9712793729425588,\n",
       "  'Mandatory Weighted Score': 1.0,\n",
       "  'Optional Weighted Score': 0.28688840983812014,\n",
       "  'filename': 'dummy1 copy 18.csv'},\n",
       " {'DF_Score': 99.99470750123491,\n",
       "  'Total Score': 0.9712793733681462,\n",
       "  'Mandatory Weighted Score': 1.0,\n",
       "  'Optional Weighted Score': 0.2868884095811102,\n",
       "  'filename': 'dummy1.csv'}]"
      ]
     },
     "execution_count": 6,
     "metadata": {},
     "output_type": "execute_result"
    }
   ],
   "source": [
    "#Output list contains aggregated values\n",
    "output_list"
   ]
  },
  {
   "cell_type": "code",
   "execution_count": 7,
   "id": "2c1839ce-7987-45da-8f57-b4b4e74fdb77",
   "metadata": {},
   "outputs": [],
   "source": [
    "# Prepare x, y values for scatter plot\n",
    "x_filename,y_df_score, y_total_score =[],[],[]\n",
    "for item in output_list:\n",
    "    x_filename.append(item['filename'])\n",
    "    y_df_score.append(item['DF_Score'])\n",
    "    y_total_score.append(item['Total Score'])"
   ]
  },
  {
   "cell_type": "code",
   "execution_count": 8,
   "id": "8e49babc-4cec-4ef3-a674-942f20263d7f",
   "metadata": {},
   "outputs": [
    {
     "data": {
      "image/png": "[encoded data removed]",
      "text/plain": [
       "<Figure size 640x480 with 1 Axes>"
      ]
     },
     "metadata": {},
     "output_type": "display_data"
    }
   ],
   "source": [
    "# plt.figure(figsize=(10, 5))\n",
    "sns.scatterplot(x=x_filename, y=y_df_score)\n",
    "plt.xlabel(None)\n",
    "plt.xticks([])\n",
    "plt.ylabel(\"DF Score\")\n",
    "plt.title('DF Score - Scatter Plot')\n",
    "plt.show()"
   ]
  },
  {
   "cell_type": "code",
   "execution_count": 9,
   "id": "ffca6368-b3df-478d-950f-a2199ce00da0",
   "metadata": {},
   "outputs": [
    {
     "data": {
      "image/png": "[encoded data removed]",
      "text/plain": [
       "<Figure size 640x480 with 1 Axes>"
      ]
     },
     "metadata": {},
     "output_type": "display_data"
    }
   ],
   "source": [
    "# plt.figure(figsize=(10, 5))\n",
    "sns.scatterplot(x=x_filename, y=y_total_score)\n",
    "plt.xlabel(None)\n",
    "plt.xticks([])\n",
    "plt.ylabel(\"Total Score\")\n",
    "plt.title ('Total Score - Scatter plot')\n",
    "plt.show()"
   ]
  },
  {
   "cell_type": "code",
   "execution_count": null,
   "id": "564c9b9a-1215-40f5-b816-1dbb7d975ffd",
   "metadata": {},
   "outputs": [],
   "source": []
  }
 ],
 "metadata": {
  "kernelspec": {
   "display_name": "Python 3 (ipykernel)",
   "language": "python",
   "name": "python3"
  },
  "language_info": {
   "codemirror_mode": {
    "name": "ipython",
    "version": 3
   },
   "file_extension": ".py",
   "mimetype": "text/x-python",
   "name": "python",
   "nbconvert_exporter": "python",
   "pygments_lexer": "ipython3",
   "version": "3.11.5"
  }
 },
 "nbformat": 4,
 "nbformat_minor": 5
}
